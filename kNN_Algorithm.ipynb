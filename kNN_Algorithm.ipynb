{
  "nbformat": 4,
  "nbformat_minor": 0,
  "metadata": {
    "colab": {
      "name": "kNN Algorithm.ipynb",
      "provenance": [],
      "collapsed_sections": [],
      "mount_file_id": "1lFDu-L_8pEzo9EvsMSN-QBjc70evtb7W",
      "authorship_tag": "ABX9TyPvey3r4DTU8yc0Chas2MbQ",
      "include_colab_link": true
    },
    "kernelspec": {
      "name": "python3",
      "display_name": "Python 3"
    },
    "language_info": {
      "name": "python"
    }
  },
  "cells": [
    {
      "cell_type": "markdown",
      "metadata": {
        "id": "view-in-github",
        "colab_type": "text"
      },
      "source": [
        "<a href=\"https://colab.research.google.com/github/surupi/MachineLearning-IEM2ndYear/blob/main/kNN_Algorithm.ipynb\" target=\"_parent\"><img src=\"https://colab.research.google.com/assets/colab-badge.svg\" alt=\"Open In Colab\"/></a>"
      ]
    },
    {
      "cell_type": "markdown",
      "source": [
        "#Mounting google drive to make dataset available for use#"
      ],
      "metadata": {
        "id": "tyODl7p1dfiT"
      }
    },
    {
      "cell_type": "code",
      "execution_count": null,
      "metadata": {
        "id": "NUsyC_nzebBT",
        "colab": {
          "base_uri": "https://localhost:8080/"
        },
        "outputId": "a5b30751-dcc9-477c-93a5-90be82b2720a"
      },
      "outputs": [
        {
          "output_type": "stream",
          "name": "stdout",
          "text": [
            "Drive already mounted at /content/drive; to attempt to forcibly remount, call drive.mount(\"/content/drive\", force_remount=True).\n"
          ]
        }
      ],
      "source": [
        "import io\n",
        "# Python io module allows us to manage the file-related input and output operations \n",
        "from google.colab import drive\n",
        "drive.mount('/content/drive')"
      ]
    },
    {
      "cell_type": "code",
      "source": [
        "import matplotlib.pyplot as plt\n",
        "import numpy as np\n",
        "import pandas as pd"
      ],
      "metadata": {
        "id": "EJqK3xb0h1cP"
      },
      "execution_count": null,
      "outputs": []
    },
    {
      "cell_type": "markdown",
      "source": [
        "\n",
        "#Fitting dataset in a dataframe (df)"
      ],
      "metadata": {
        "id": "owyvtx03dqDI"
      }
    },
    {
      "cell_type": "code",
      "source": [
        "# to get the address, go to drive on left side, press on three dots and click copy path\n",
        "df = pd.read_csv ('/content/drive/MyDrive/Colab Notebooks/CSV- KNN Algorithm_Data_Set_v2.0.csv')\n",
        "print(\"Shape of dataframe: \", df.shape)\n",
        "print(\"Columns of dataframe: \", df.columns)\n",
        "df.describe()"
      ],
      "metadata": {
        "colab": {
          "base_uri": "https://localhost:8080/",
          "height": 335
        },
        "id": "wU15F1ntdtV_",
        "outputId": "5ea61589-01b7-4e8f-8991-596ca0a53af9"
      },
      "execution_count": null,
      "outputs": [
        {
          "output_type": "stream",
          "name": "stdout",
          "text": [
            "Shape of dataframe:  (16, 4)\n",
            "Columns of dataframe:  Index(['Name', 'Aptitude', 'Communication', 'Class'], dtype='object')\n"
          ]
        },
        {
          "output_type": "execute_result",
          "data": {
            "text/plain": [
              "        Aptitude  Communication\n",
              "count  16.000000      16.000000\n",
              "mean    5.562500       4.937500\n",
              "std     2.064582       1.631717\n",
              "min     2.000000       2.000000\n",
              "25%     4.750000       3.750000\n",
              "50%     6.000000       5.250000\n",
              "75%     7.000000       6.000000\n",
              "max     9.000000       7.000000"
            ],
            "text/html": [
              "\n",
              "  <div id=\"df-5fa433b7-57c6-4d0a-b11a-26502e2776c1\">\n",
              "    <div class=\"colab-df-container\">\n",
              "      <div>\n",
              "<style scoped>\n",
              "    .dataframe tbody tr th:only-of-type {\n",
              "        vertical-align: middle;\n",
              "    }\n",
              "\n",
              "    .dataframe tbody tr th {\n",
              "        vertical-align: top;\n",
              "    }\n",
              "\n",
              "    .dataframe thead th {\n",
              "        text-align: right;\n",
              "    }\n",
              "</style>\n",
              "<table border=\"1\" class=\"dataframe\">\n",
              "  <thead>\n",
              "    <tr style=\"text-align: right;\">\n",
              "      <th></th>\n",
              "      <th>Aptitude</th>\n",
              "      <th>Communication</th>\n",
              "    </tr>\n",
              "  </thead>\n",
              "  <tbody>\n",
              "    <tr>\n",
              "      <th>count</th>\n",
              "      <td>16.000000</td>\n",
              "      <td>16.000000</td>\n",
              "    </tr>\n",
              "    <tr>\n",
              "      <th>mean</th>\n",
              "      <td>5.562500</td>\n",
              "      <td>4.937500</td>\n",
              "    </tr>\n",
              "    <tr>\n",
              "      <th>std</th>\n",
              "      <td>2.064582</td>\n",
              "      <td>1.631717</td>\n",
              "    </tr>\n",
              "    <tr>\n",
              "      <th>min</th>\n",
              "      <td>2.000000</td>\n",
              "      <td>2.000000</td>\n",
              "    </tr>\n",
              "    <tr>\n",
              "      <th>25%</th>\n",
              "      <td>4.750000</td>\n",
              "      <td>3.750000</td>\n",
              "    </tr>\n",
              "    <tr>\n",
              "      <th>50%</th>\n",
              "      <td>6.000000</td>\n",
              "      <td>5.250000</td>\n",
              "    </tr>\n",
              "    <tr>\n",
              "      <th>75%</th>\n",
              "      <td>7.000000</td>\n",
              "      <td>6.000000</td>\n",
              "    </tr>\n",
              "    <tr>\n",
              "      <th>max</th>\n",
              "      <td>9.000000</td>\n",
              "      <td>7.000000</td>\n",
              "    </tr>\n",
              "  </tbody>\n",
              "</table>\n",
              "</div>\n",
              "      <button class=\"colab-df-convert\" onclick=\"convertToInteractive('df-5fa433b7-57c6-4d0a-b11a-26502e2776c1')\"\n",
              "              title=\"Convert this dataframe to an interactive table.\"\n",
              "              style=\"display:none;\">\n",
              "        \n",
              "  <svg xmlns=\"http://www.w3.org/2000/svg\" height=\"24px\"viewBox=\"0 0 24 24\"\n",
              "       width=\"24px\">\n",
              "    <path d=\"M0 0h24v24H0V0z\" fill=\"none\"/>\n",
              "    <path d=\"M18.56 5.44l.94 2.06.94-2.06 2.06-.94-2.06-.94-.94-2.06-.94 2.06-2.06.94zm-11 1L8.5 8.5l.94-2.06 2.06-.94-2.06-.94L8.5 2.5l-.94 2.06-2.06.94zm10 10l.94 2.06.94-2.06 2.06-.94-2.06-.94-.94-2.06-.94 2.06-2.06.94z\"/><path d=\"M17.41 7.96l-1.37-1.37c-.4-.4-.92-.59-1.43-.59-.52 0-1.04.2-1.43.59L10.3 9.45l-7.72 7.72c-.78.78-.78 2.05 0 2.83L4 21.41c.39.39.9.59 1.41.59.51 0 1.02-.2 1.41-.59l7.78-7.78 2.81-2.81c.8-.78.8-2.07 0-2.86zM5.41 20L4 18.59l7.72-7.72 1.47 1.35L5.41 20z\"/>\n",
              "  </svg>\n",
              "      </button>\n",
              "      \n",
              "  <style>\n",
              "    .colab-df-container {\n",
              "      display:flex;\n",
              "      flex-wrap:wrap;\n",
              "      gap: 12px;\n",
              "    }\n",
              "\n",
              "    .colab-df-convert {\n",
              "      background-color: #E8F0FE;\n",
              "      border: none;\n",
              "      border-radius: 50%;\n",
              "      cursor: pointer;\n",
              "      display: none;\n",
              "      fill: #1967D2;\n",
              "      height: 32px;\n",
              "      padding: 0 0 0 0;\n",
              "      width: 32px;\n",
              "    }\n",
              "\n",
              "    .colab-df-convert:hover {\n",
              "      background-color: #E2EBFA;\n",
              "      box-shadow: 0px 1px 2px rgba(60, 64, 67, 0.3), 0px 1px 3px 1px rgba(60, 64, 67, 0.15);\n",
              "      fill: #174EA6;\n",
              "    }\n",
              "\n",
              "    [theme=dark] .colab-df-convert {\n",
              "      background-color: #3B4455;\n",
              "      fill: #D2E3FC;\n",
              "    }\n",
              "\n",
              "    [theme=dark] .colab-df-convert:hover {\n",
              "      background-color: #434B5C;\n",
              "      box-shadow: 0px 1px 3px 1px rgba(0, 0, 0, 0.15);\n",
              "      filter: drop-shadow(0px 1px 2px rgba(0, 0, 0, 0.3));\n",
              "      fill: #FFFFFF;\n",
              "    }\n",
              "  </style>\n",
              "\n",
              "      <script>\n",
              "        const buttonEl =\n",
              "          document.querySelector('#df-5fa433b7-57c6-4d0a-b11a-26502e2776c1 button.colab-df-convert');\n",
              "        buttonEl.style.display =\n",
              "          google.colab.kernel.accessAllowed ? 'block' : 'none';\n",
              "\n",
              "        async function convertToInteractive(key) {\n",
              "          const element = document.querySelector('#df-5fa433b7-57c6-4d0a-b11a-26502e2776c1');\n",
              "          const dataTable =\n",
              "            await google.colab.kernel.invokeFunction('convertToInteractive',\n",
              "                                                     [key], {});\n",
              "          if (!dataTable) return;\n",
              "\n",
              "          const docLinkHtml = 'Like what you see? Visit the ' +\n",
              "            '<a target=\"_blank\" href=https://colab.research.google.com/notebooks/data_table.ipynb>data table notebook</a>'\n",
              "            + ' to learn more about interactive tables.';\n",
              "          element.innerHTML = '';\n",
              "          dataTable['output_type'] = 'display_data';\n",
              "          await google.colab.output.renderOutput(dataTable, element);\n",
              "          const docLink = document.createElement('div');\n",
              "          docLink.innerHTML = docLinkHtml;\n",
              "          element.appendChild(docLink);\n",
              "        }\n",
              "      </script>\n",
              "    </div>\n",
              "  </div>\n",
              "  "
            ]
          },
          "metadata": {},
          "execution_count": 16
        }
      ]
    },
    {
      "cell_type": "markdown",
      "source": [
        "#Data Visualization"
      ],
      "metadata": {
        "id": "R1SW4rXZkJnF"
      }
    },
    {
      "cell_type": "code",
      "source": [
        "plt.xlabel(\"Aptitude\")\n",
        "plt.ylabel(\"Communication\")\n",
        "plt.scatter(df.Aptitude,df.Communication)"
      ],
      "metadata": {
        "colab": {
          "base_uri": "https://localhost:8080/",
          "height": 296
        },
        "id": "0Ry-F1jNkJF0",
        "outputId": "431fb1d6-d3ac-4a9f-bfcb-3850e33bf4ff"
      },
      "execution_count": null,
      "outputs": [
        {
          "output_type": "execute_result",
          "data": {
            "text/plain": [
              "<matplotlib.collections.PathCollection at 0x7fa67e6cd310>"
            ]
          },
          "metadata": {},
          "execution_count": 8
        },
        {
          "output_type": "display_data",
          "data": {
            "text/plain": [
              "<Figure size 432x288 with 1 Axes>"
            ],
            "image/png": "[encoded data removed]"
          },
          "metadata": {
            "needs_background": "light"
          }
        }
      ]
    },
    {
      "cell_type": "markdown",
      "source": [
        "#Splitting data into training and testing set"
      ],
      "metadata": {
        "id": "JiQ6EZaflRnW"
      }
    },
    {
      "cell_type": "code",
      "source": [
        "from sklearn.model_selection import train_test_split\n",
        "predictors = df.iloc[:,1:3]\n",
        "target = df.iloc[:,3]\n",
        "#df.iloc[<row selection> , <column selection>]\n",
        "# df.iloc[:,1:3] = is used to select all rows (:) of columns 1 and 2 (1:3)\n",
        "#print (predictors)\n",
        "#print (target)\n",
        "train, test = train_test_split(df, test_size =0.3, random_state=0)\n",
        "#print (train.head)\n",
        "#print (test.head)\n",
        "trainX, testX, trainY, testY = train_test_split(predictors, target, test_size =0.1, random_state=0)\n",
        "print (trainX)\n",
        "print (testX)\n",
        "print (trainY)\n",
        "print (testY)"
      ],
      "metadata": {
        "colab": {
          "base_uri": "https://localhost:8080/"
        },
        "id": "MHz9rDdIlRWr",
        "outputId": "f89b8a18-881e-4c32-e536-3844f4cdcccf"
      },
      "execution_count": null,
      "outputs": [
        {
          "output_type": "stream",
          "name": "stdout",
          "text": [
            "    Aptitude  Communication\n",
            "8          8            3.0\n",
            "9          6            5.5\n",
            "13         9            7.0\n",
            "4          8            6.0\n",
            "2          7            6.0\n",
            "14         5            4.5\n",
            "10         6            4.0\n",
            "7          3            5.5\n",
            "15         5            5.0\n",
            "11         6            7.0\n",
            "3          7            2.5\n",
            "0          2            5.0\n",
            "5          4            7.0\n",
            "12         6            2.0\n",
            "   Aptitude  Communication\n",
            "1         2            6.0\n",
            "6         5            3.0\n",
            "8       Intel\n",
            "9      Leader\n",
            "13     Leader\n",
            "4      Leader\n",
            "2      Leader\n",
            "14      Intel\n",
            "10      Intel\n",
            "7     Speaker\n",
            "15    Speaker\n",
            "11     Leader\n",
            "3       Intel\n",
            "0     Speaker\n",
            "5     Speaker\n",
            "12      Intel\n",
            "Name: Class, dtype: object\n",
            "1    Speaker\n",
            "6      Intel\n",
            "Name: Class, dtype: object\n"
          ]
        }
      ]
    },
    {
      "cell_type": "markdown",
      "source": [
        "#Create KNN classification model"
      ],
      "metadata": {
        "id": "gfMhcZtim7vf"
      }
    },
    {
      "cell_type": "code",
      "source": [
        "from sklearn.neighbors import KNeighborsClassifier\n",
        "KNN_Classifier = KNeighborsClassifier (n_neighbors=3) # looking at the top 3 closest point for each element in test X and selecting the class that the majority of the 3 belongs in\n",
        "KNN_Classifier.fit(trainX, trainY) # training model and making it ready to predict results from text X\n",
        "print (\"Train set predictions: {}\".format(KNN_Classifier.predict(testX))) #prdicting result"
      ],
      "metadata": {
        "colab": {
          "base_uri": "https://localhost:8080/"
        },
        "id": "HnG4yrkknjcB",
        "outputId": "40174f20-4370-4ad1-b28a-211152f7ed59"
      },
      "execution_count": null,
      "outputs": [
        {
          "output_type": "stream",
          "name": "stdout",
          "text": [
            "Train set predictions: ['Speaker' 'Intel']\n"
          ]
        }
      ]
    },
    {
      "cell_type": "markdown",
      "source": [
        "#Model evaluation"
      ],
      "metadata": {
        "id": "elmccWHboVFA"
      }
    },
    {
      "cell_type": "code",
      "source": [
        "from sklearn.metrics import accuracy_score\n",
        "accuracy = KNN_Classifier.score(testX, testY)\n",
        "print (accuracy)\n",
        "from sklearn.metrics import confusion_matrix\n",
        "predictions = KNN_Classifier.predict(testX)\n",
        "confusion_matrix = confusion_matrix(testY, predictions)\n",
        "print (confusion_matrix)\n",
        "# her the model evaluation checks how close the predicted values from kNN ar to the testY values"
      ],
      "metadata": {
        "colab": {
          "base_uri": "https://localhost:8080/"
        },
        "id": "l5MoiOZVoU0Q",
        "outputId": "66d05c45-25a9-4127-db3b-c15f27bae6ab"
      },
      "execution_count": null,
      "outputs": [
        {
          "output_type": "stream",
          "name": "stdout",
          "text": [
            "1.0\n",
            "[[1 0]\n",
            " [0 1]]\n"
          ]
        }
      ]
    }
  ]
}