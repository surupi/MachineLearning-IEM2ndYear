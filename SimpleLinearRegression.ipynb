{
  "nbformat": 4,
  "nbformat_minor": 0,
  "metadata": {
    "colab": {
      "name": "SimpleLinearRegression.ipynb",
      "provenance": [],
      "collapsed_sections": [],
      "mount_file_id": "1Z7ikWFZM7zVCjWpsi400QrCg6R0p96Ic",
      "authorship_tag": "ABX9TyOUuMuVUt9pw45T6AAZclNk",
      "include_colab_link": true
    },
    "kernelspec": {
      "name": "python3",
      "display_name": "Python 3"
    },
    "language_info": {
      "name": "python"
    }
  },
  "cells": [
    {
      "cell_type": "markdown",
      "metadata": {
        "id": "view-in-github",
        "colab_type": "text"
      },
      "source": [
        "<a href=\"https://colab.research.google.com/github/surupi/MachineLearning-IEM2ndYear/blob/main/SimpleLinearRegression.ipynb\" target=\"_parent\"><img src=\"https://colab.research.google.com/assets/colab-badge.svg\" alt=\"Open In Colab\"/></a>"
      ]
    },
    {
      "cell_type": "markdown",
      "source": [
        "#Mounting Drive to make dataset available for use"
      ],
      "metadata": {
        "id": "K1_9YMEUvbB-"
      }
    },
    {
      "cell_type": "code",
      "execution_count": null,
      "metadata": {
        "id": "5ygoqcHjvRTR",
        "colab": {
          "base_uri": "https://localhost:8080/"
        },
        "outputId": "3cb2de68-6918-486d-ce28-6a3bda9ac6d6"
      },
      "outputs": [
        {
          "output_type": "stream",
          "name": "stdout",
          "text": [
            "Drive already mounted at /content/drive; to attempt to forcibly remount, call drive.mount(\"/content/drive\", force_remount=True).\n"
          ]
        }
      ],
      "source": [
        "import io\n",
        "# Python io module allows us to manage the file-related input and output operations \n",
        "from google.colab import drive\n",
        "drive.mount('/content/drive')"
      ]
    },
    {
      "cell_type": "code",
      "source": [
        "import matplotlib.pyplot as plt\n",
        "import numpy as np\n",
        "import pandas as pd"
      ],
      "metadata": {
        "id": "ArSp8DJ7vh8L"
      },
      "execution_count": null,
      "outputs": []
    },
    {
      "cell_type": "markdown",
      "source": [
        "#Fitting dataset in a dataframe (df)"
      ],
      "metadata": {
        "id": "Fp6_Q-jJhoRV"
      }
    },
    {
      "cell_type": "code",
      "source": [
        "# to get the address, go to drive on left side, press on three dots and click copy path\n",
        "df = pd.read_csv ('/content/drive/MyDrive/Colab Notebooks/CSV - Simple&MultipleLinearRegression.csv')\n",
        "print(\"Shape of dataframe: \", df.shape)\n",
        "print(\"Columns of dataframe: \", df.columns)\n",
        "df.describe()"
      ],
      "metadata": {
        "colab": {
          "base_uri": "https://localhost:8080/",
          "height": 335
        },
        "id": "0opqJKyGhmKW",
        "outputId": "b6f9d2fc-84ee-46a4-dd82-931e49a7a6e0"
      },
      "execution_count": null,
      "outputs": [
        {
          "output_type": "stream",
          "name": "stdout",
          "text": [
            "Shape of dataframe:  (1067, 4)\n",
            "Columns of dataframe:  Index(['Engine_Size', 'Cylinders', 'Fuel_Consumption', 'CO2_Emissions'], dtype='object')\n"
          ]
        },
        {
          "output_type": "execute_result",
          "data": {
            "text/plain": [
              "       Engine_Size    Cylinders  Fuel_Consumption  CO2_Emissions\n",
              "count  1067.000000  1067.000000       1067.000000    1067.000000\n",
              "mean      3.346298     5.794752         13.296532     256.228679\n",
              "std       1.415895     1.797447          4.101253      63.372304\n",
              "min       1.000000     3.000000          4.600000     108.000000\n",
              "25%       2.000000     4.000000         10.250000     207.000000\n",
              "50%       3.400000     6.000000         12.600000     251.000000\n",
              "75%       4.300000     8.000000         15.550000     294.000000\n",
              "max       8.400000    12.000000         30.200000     488.000000"
            ],
            "text/html": [
              "\n",
              "  <div id=\"df-41153a53-e939-414b-85ed-1c4c554ee29d\">\n",
              "    <div class=\"colab-df-container\">\n",
              "      <div>\n",
              "<style scoped>\n",
              "    .dataframe tbody tr th:only-of-type {\n",
              "        vertical-align: middle;\n",
              "    }\n",
              "\n",
              "    .dataframe tbody tr th {\n",
              "        vertical-align: top;\n",
              "    }\n",
              "\n",
              "    .dataframe thead th {\n",
              "        text-align: right;\n",
              "    }\n",
              "</style>\n",
              "<table border=\"1\" class=\"dataframe\">\n",
              "  <thead>\n",
              "    <tr style=\"text-align: right;\">\n",
              "      <th></th>\n",
              "      <th>Engine_Size</th>\n",
              "      <th>Cylinders</th>\n",
              "      <th>Fuel_Consumption</th>\n",
              "      <th>CO2_Emissions</th>\n",
              "    </tr>\n",
              "  </thead>\n",
              "  <tbody>\n",
              "    <tr>\n",
              "      <th>count</th>\n",
              "      <td>1067.000000</td>\n",
              "      <td>1067.000000</td>\n",
              "      <td>1067.000000</td>\n",
              "      <td>1067.000000</td>\n",
              "    </tr>\n",
              "    <tr>\n",
              "      <th>mean</th>\n",
              "      <td>3.346298</td>\n",
              "      <td>5.794752</td>\n",
              "      <td>13.296532</td>\n",
              "      <td>256.228679</td>\n",
              "    </tr>\n",
              "    <tr>\n",
              "      <th>std</th>\n",
              "      <td>1.415895</td>\n",
              "      <td>1.797447</td>\n",
              "      <td>4.101253</td>\n",
              "      <td>63.372304</td>\n",
              "    </tr>\n",
              "    <tr>\n",
              "      <th>min</th>\n",
              "      <td>1.000000</td>\n",
              "      <td>3.000000</td>\n",
              "      <td>4.600000</td>\n",
              "      <td>108.000000</td>\n",
              "    </tr>\n",
              "    <tr>\n",
              "      <th>25%</th>\n",
              "      <td>2.000000</td>\n",
              "      <td>4.000000</td>\n",
              "      <td>10.250000</td>\n",
              "      <td>207.000000</td>\n",
              "    </tr>\n",
              "    <tr>\n",
              "      <th>50%</th>\n",
              "      <td>3.400000</td>\n",
              "      <td>6.000000</td>\n",
              "      <td>12.600000</td>\n",
              "      <td>251.000000</td>\n",
              "    </tr>\n",
              "    <tr>\n",
              "      <th>75%</th>\n",
              "      <td>4.300000</td>\n",
              "      <td>8.000000</td>\n",
              "      <td>15.550000</td>\n",
              "      <td>294.000000</td>\n",
              "    </tr>\n",
              "    <tr>\n",
              "      <th>max</th>\n",
              "      <td>8.400000</td>\n",
              "      <td>12.000000</td>\n",
              "      <td>30.200000</td>\n",
              "      <td>488.000000</td>\n",
              "    </tr>\n",
              "  </tbody>\n",
              "</table>\n",
              "</div>\n",
              "      <button class=\"colab-df-convert\" onclick=\"convertToInteractive('df-41153a53-e939-414b-85ed-1c4c554ee29d')\"\n",
              "              title=\"Convert this dataframe to an interactive table.\"\n",
              "              style=\"display:none;\">\n",
              "        \n",
              "  <svg xmlns=\"http://www.w3.org/2000/svg\" height=\"24px\"viewBox=\"0 0 24 24\"\n",
              "       width=\"24px\">\n",
              "    <path d=\"M0 0h24v24H0V0z\" fill=\"none\"/>\n",
              "    <path d=\"M18.56 5.44l.94 2.06.94-2.06 2.06-.94-2.06-.94-.94-2.06-.94 2.06-2.06.94zm-11 1L8.5 8.5l.94-2.06 2.06-.94-2.06-.94L8.5 2.5l-.94 2.06-2.06.94zm10 10l.94 2.06.94-2.06 2.06-.94-2.06-.94-.94-2.06-.94 2.06-2.06.94z\"/><path d=\"M17.41 7.96l-1.37-1.37c-.4-.4-.92-.59-1.43-.59-.52 0-1.04.2-1.43.59L10.3 9.45l-7.72 7.72c-.78.78-.78 2.05 0 2.83L4 21.41c.39.39.9.59 1.41.59.51 0 1.02-.2 1.41-.59l7.78-7.78 2.81-2.81c.8-.78.8-2.07 0-2.86zM5.41 20L4 18.59l7.72-7.72 1.47 1.35L5.41 20z\"/>\n",
              "  </svg>\n",
              "      </button>\n",
              "      \n",
              "  <style>\n",
              "    .colab-df-container {\n",
              "      display:flex;\n",
              "      flex-wrap:wrap;\n",
              "      gap: 12px;\n",
              "    }\n",
              "\n",
              "    .colab-df-convert {\n",
              "      background-color: #E8F0FE;\n",
              "      border: none;\n",
              "      border-radius: 50%;\n",
              "      cursor: pointer;\n",
              "      display: none;\n",
              "      fill: #1967D2;\n",
              "      height: 32px;\n",
              "      padding: 0 0 0 0;\n",
              "      width: 32px;\n",
              "    }\n",
              "\n",
              "    .colab-df-convert:hover {\n",
              "      background-color: #E2EBFA;\n",
              "      box-shadow: 0px 1px 2px rgba(60, 64, 67, 0.3), 0px 1px 3px 1px rgba(60, 64, 67, 0.15);\n",
              "      fill: #174EA6;\n",
              "    }\n",
              "\n",
              "    [theme=dark] .colab-df-convert {\n",
              "      background-color: #3B4455;\n",
              "      fill: #D2E3FC;\n",
              "    }\n",
              "\n",
              "    [theme=dark] .colab-df-convert:hover {\n",
              "      background-color: #434B5C;\n",
              "      box-shadow: 0px 1px 3px 1px rgba(0, 0, 0, 0.15);\n",
              "      filter: drop-shadow(0px 1px 2px rgba(0, 0, 0, 0.3));\n",
              "      fill: #FFFFFF;\n",
              "    }\n",
              "  </style>\n",
              "\n",
              "      <script>\n",
              "        const buttonEl =\n",
              "          document.querySelector('#df-41153a53-e939-414b-85ed-1c4c554ee29d button.colab-df-convert');\n",
              "        buttonEl.style.display =\n",
              "          google.colab.kernel.accessAllowed ? 'block' : 'none';\n",
              "\n",
              "        async function convertToInteractive(key) {\n",
              "          const element = document.querySelector('#df-41153a53-e939-414b-85ed-1c4c554ee29d');\n",
              "          const dataTable =\n",
              "            await google.colab.kernel.invokeFunction('convertToInteractive',\n",
              "                                                     [key], {});\n",
              "          if (!dataTable) return;\n",
              "\n",
              "          const docLinkHtml = 'Like what you see? Visit the ' +\n",
              "            '<a target=\"_blank\" href=https://colab.research.google.com/notebooks/data_table.ipynb>data table notebook</a>'\n",
              "            + ' to learn more about interactive tables.';\n",
              "          element.innerHTML = '';\n",
              "          dataTable['output_type'] = 'display_data';\n",
              "          await google.colab.output.renderOutput(dataTable, element);\n",
              "          const docLink = document.createElement('div');\n",
              "          docLink.innerHTML = docLinkHtml;\n",
              "          element.appendChild(docLink);\n",
              "        }\n",
              "      </script>\n",
              "    </div>\n",
              "  </div>\n",
              "  "
            ]
          },
          "metadata": {},
          "execution_count": 26
        }
      ]
    },
    {
      "cell_type": "markdown",
      "source": [
        "#Data Visualization"
      ],
      "metadata": {
        "id": "o-1OojoehOU1"
      }
    },
    {
      "cell_type": "code",
      "source": [
        "x = df.Engine_Size.to_numpy()\n",
        "y = df.CO2_Emissions.to_numpy()\n",
        "plt.xlabel(\"Engine Size\")\n",
        "plt.ylabel(\"CO2 Emissions\")\n",
        "plt.scatter(x,y)"
      ],
      "metadata": {
        "colab": {
          "base_uri": "https://localhost:8080/",
          "height": 297
        },
        "id": "XcuuXeUzhPPt",
        "outputId": "a5955e9f-9307-4771-9073-a24d1d233e9e"
      },
      "execution_count": null,
      "outputs": [
        {
          "output_type": "execute_result",
          "data": {
            "text/plain": [
              "<matplotlib.collections.PathCollection at 0x7f1b3d5e2410>"
            ]
          },
          "metadata": {},
          "execution_count": 27
        },
        {
          "output_type": "display_data",
          "data": {
            "text/plain": [
              "<Figure size 432x288 with 1 Axes>"
            ],
            "image/png": "[encoded data removed]"
          },
          "metadata": {
            "needs_background": "light"
          }
        }
      ]
    },
    {
      "cell_type": "markdown",
      "source": [
        "#Splitting data into training and testing set"
      ],
      "metadata": {
        "id": "Z2p6GDXizv17"
      }
    },
    {
      "cell_type": "code",
      "source": [
        "# 80% - train set,\n",
        "# 20% - test set\n",
        "\n",
        "from sklearn.model_selection import train_test_split\n",
        "train, test = train_test_split(df, test_size =0.2, random_state=0)\n",
        "\n",
        "print(\"Training data: \")\n",
        "print(train.head)\n",
        "\n",
        "print(\"Testing data: \")\n",
        "print(test.head)\n",
        "\n",
        "'''\n",
        "One way to divide data into 3 sets: train,test, validate using one single dataset\n",
        "step1: divide 100% of the given data into 70% as train and 30% as rest\n",
        "step2: divide the rest 30% of the data into 20% as test and 10% as validate\n",
        "Do both steps using train_test_split\n",
        "'''"
      ],
      "metadata": {
        "id": "zH5WGx6HzwpE",
        "colab": {
          "base_uri": "https://localhost:8080/",
          "height": 574
        },
        "outputId": "ad80ffc3-fe13-4d53-d508-d82d4b1b400b"
      },
      "execution_count": null,
      "outputs": [
        {
          "output_type": "stream",
          "name": "stdout",
          "text": [
            "Training data: \n",
            "<bound method NDFrame.head of       Engine_Size  Cylinders  Fuel_Consumption  CO2_Emissions\n",
            "270           3.6          6              14.6            290\n",
            "1006          4.6          8              16.9            347\n",
            "728           3.5          6              12.1            244\n",
            "992           2.5          4              10.6            218\n",
            "702           1.5          4               8.0            170\n",
            "...           ...        ...               ...            ...\n",
            "1033          2.0          4               7.9            186\n",
            "763           3.5          6              17.8            256\n",
            "835           3.7          6              13.5            269\n",
            "559           5.0          8              15.8            306\n",
            "684           3.7          6              13.1            262\n",
            "\n",
            "[853 rows x 4 columns]>\n",
            "Testing data: \n",
            "<bound method NDFrame.head of       Engine_Size  Cylinders  Fuel_Consumption  CO2_Emissions\n",
            "766           5.5          8              17.2            356\n",
            "204           2.4          4              10.5            209\n",
            "629           2.4          4              11.4            230\n",
            "897           2.7          6              10.7            212\n",
            "711           2.5          4               8.2            168\n",
            "...           ...        ...               ...            ...\n",
            "822           2.0          4               9.6            198\n",
            "1029          2.0          4              10.9            221\n",
            "798           1.6          4               9.3            191\n",
            "803           1.6          4               9.1            184\n",
            "251           1.4          4               9.1            184\n",
            "\n",
            "[214 rows x 4 columns]>\n"
          ]
        },
        {
          "output_type": "execute_result",
          "data": {
            "text/plain": [
              "'\\nOne way to divide data into 3 sets: train,test, validate using one single dataset\\nstep1: divide 100% of the given data into 70% as train and 30% as rest\\nstep2: divide the rest 30% of the data into 20% as test and 10% as validate\\nDo both steps using train_test_split\\n'"
            ],
            "application/vnd.google.colaboratory.intrinsic+json": {
              "type": "string"
            }
          },
          "metadata": {},
          "execution_count": 28
        }
      ]
    },
    {
      "cell_type": "markdown",
      "source": [
        "# Simple linear Regression"
      ],
      "metadata": {
        "id": "WDMBBvtEzztT"
      }
    },
    {
      "cell_type": "code",
      "source": [
        "from sklearn import linear_model\n",
        "slr = linear_model.LinearRegression()\n",
        "#asanyarray() function is used when we want to convert input to an array but it pass ndarray subclasses through.\n",
        "train_x = np.asanyarray(train[[\"Engine_Size\"]]) #double brackets = [[]] = are required\n",
        "train_y = np.asanyarray(train[[\"CO2_Emissions\"]])\n",
        "slr.fit(train_x,train_y)\n",
        "\n",
        "#value of coefficient\n",
        "print(\"X Coefficient: \", slr.coef_)\n",
        "print(\"Y Coefficient: \", slr.intercept_)"
      ],
      "metadata": {
        "id": "HWmSs_G2z280",
        "colab": {
          "base_uri": "https://localhost:8080/"
        },
        "outputId": "ff5684f7-0a03-4e2b-fbd2-9daaf7feb4f0"
      },
      "execution_count": null,
      "outputs": [
        {
          "output_type": "stream",
          "name": "stdout",
          "text": [
            "X Coefficient:  [[39.24838431]]\n",
            "Y Coefficient:  [126.18920155]\n"
          ]
        }
      ]
    },
    {
      "cell_type": "code",
      "source": [
        "plt.scatter(train.Engine_Size, train.CO2_Emissions, c =\"blue\")\n",
        "plt.plot(train_x, slr.coef_[0][0]*train_x + slr.intercept_[0], '-r')\n",
        "plt.xlabel(\"Engine Size\")\n",
        "plt.ylabel(\"CO2 Emissions\")"
      ],
      "metadata": {
        "id": "rZVZwMsmz8ck",
        "colab": {
          "base_uri": "https://localhost:8080/",
          "height": 297
        },
        "outputId": "825b1a8e-d59f-471d-bb16-bdb269b96384"
      },
      "execution_count": null,
      "outputs": [
        {
          "output_type": "execute_result",
          "data": {
            "text/plain": [
              "Text(0, 0.5, 'CO2 Emissions')"
            ]
          },
          "metadata": {},
          "execution_count": 30
        },
        {
          "output_type": "display_data",
          "data": {
            "text/plain": [
              "<Figure size 432x288 with 1 Axes>"
            ],
            "image/png": "[encoded data removed]"
          },
          "metadata": {
            "needs_background": "light"
          }
        }
      ]
    },
    {
      "cell_type": "code",
      "source": [
        "from sklearn.metrics import r2_score\n",
        "test_x = np.asanyarray(test[[\"Engine_Size\"]])\n",
        "test_y_actual = np.asanyarray(test[[\"CO2_Emissions\"]])\n",
        "test_y_predicted = slr.predict(test_x)\n",
        "print('Mean absolute error: %.2f' % np.mean(np.absolute(test_y_predicted - test_y_actual)))\n",
        "print('Residual sum of squares (MSE): %.2f' % np.mean((test_y_predicted - test_y_actual)**2))\n",
        "print('R2 Score: %.2f' % r2_score(test_y_actual, test_y_predicted))\n",
        "#R2 score = amount of the variation in the output dependent attribute which is predictable from the input independent variables"
      ],
      "metadata": {
        "id": "FRsFpKqgz9Fb",
        "colab": {
          "base_uri": "https://localhost:8080/"
        },
        "outputId": "47c92267-6aa8-448f-902e-8233b9f1cd83"
      },
      "execution_count": null,
      "outputs": [
        {
          "output_type": "stream",
          "name": "stdout",
          "text": [
            "Mean absolute error: 25.57\n",
            "Residual sum of squares (MSE): 1181.53\n",
            "R2 Score: 0.72\n"
          ]
        }
      ]
    }
  ]
}