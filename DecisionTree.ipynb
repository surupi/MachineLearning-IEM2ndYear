{
  "nbformat": 4,
  "nbformat_minor": 0,
  "metadata": {
    "colab": {
      "name": "DecisionTree.ipynb",
      "provenance": [],
      "collapsed_sections": [],
      "mount_file_id": "1Z7ikWFZM7zVCjWpsi400QrCg6R0p96Ic",
      "authorship_tag": "ABX9TyMfONwHPmPOR0z3QQjIy3CY",
      "include_colab_link": true
    },
    "kernelspec": {
      "name": "python3",
      "display_name": "Python 3"
    },
    "language_info": {
      "name": "python"
    }
  },
  "cells": [
    {
      "cell_type": "markdown",
      "metadata": {
        "id": "view-in-github",
        "colab_type": "text"
      },
      "source": [
        "<a href=\"https://colab.research.google.com/github/surupi/MachineLearning-IEM2ndYear/blob/main/DecisionTree.ipynb\" target=\"_parent\"><img src=\"https://colab.research.google.com/assets/colab-badge.svg\" alt=\"Open In Colab\"/></a>"
      ]
    },
    {
      "cell_type": "markdown",
      "source": [
        "#Mounting Drive to make dataset available for use"
      ],
      "metadata": {
        "id": "K1_9YMEUvbB-"
      }
    },
    {
      "cell_type": "code",
      "execution_count": null,
      "metadata": {
        "id": "5ygoqcHjvRTR",
        "colab": {
          "base_uri": "https://localhost:8080/"
        },
        "outputId": "f9904a99-8168-4eb1-bb0f-6eda670204a9"
      },
      "outputs": [
        {
          "output_type": "stream",
          "name": "stdout",
          "text": [
            "Drive already mounted at /content/drive; to attempt to forcibly remount, call drive.mount(\"/content/drive\", force_remount=True).\n"
          ]
        }
      ],
      "source": [
        "# import io\n",
        "# Python io module allows us to manage the file-related input and output operations \n",
        "from google.colab import drive\n",
        "drive.mount('/content/drive')"
      ]
    },
    {
      "cell_type": "markdown",
      "source": [
        "#Fitting dataset in a dataframe (df)"
      ],
      "metadata": {
        "id": "Fp6_Q-jJhoRV"
      }
    },
    {
      "cell_type": "code",
      "source": [
        "import numpy as np\n",
        "import pandas as pd\n",
        "df = pd.read_csv ('/content/drive/MyDrive/Colab Notebooks/CSV- DecisionTree.csv')\n",
        "df.shape\n",
        "df.columns\n",
        "df"
      ],
      "metadata": {
        "colab": {
          "base_uri": "https://localhost:8080/",
          "height": 457
        },
        "id": "0opqJKyGhmKW",
        "outputId": "23a19679-887f-430b-ad10-d8b964eee491"
      },
      "execution_count": null,
      "outputs": [
        {
          "output_type": "execute_result",
          "data": {
            "text/plain": [
              "    Day  WakeUp HaveTalk Weather GoToSchool\n",
              "0    D1  Normal       No   Sunny         No\n",
              "1    D2  Normal       No    Rain         No\n",
              "2    D3   Early       No   Sunny        Yes\n",
              "3    D4    Late       No   Sunny        Yes\n",
              "4    D5    Late      Yes   Sunny        Yes\n",
              "5    D6    Late      Yes    Rain         No\n",
              "6    D7   Early      Yes    Rain        Yes\n",
              "7    D8  Normal       No   Sunny         No\n",
              "8    D9  Normal      Yes   Sunny        Yes\n",
              "9   D10    Late      Yes   Sunny        Yes\n",
              "10  D11  Normal      Yes    Rain        Yes\n",
              "11  D12   Early       No    Rain        Yes\n",
              "12  D13   Early      Yes   Sunny        Yes"
            ],
            "text/html": [
              "\n",
              "  <div id=\"df-05af8071-ee7c-4ecc-82f9-f62c00280e03\">\n",
              "    <div class=\"colab-df-container\">\n",
              "      <div>\n",
              "<style scoped>\n",
              "    .dataframe tbody tr th:only-of-type {\n",
              "        vertical-align: middle;\n",
              "    }\n",
              "\n",
              "    .dataframe tbody tr th {\n",
              "        vertical-align: top;\n",
              "    }\n",
              "\n",
              "    .dataframe thead th {\n",
              "        text-align: right;\n",
              "    }\n",
              "</style>\n",
              "<table border=\"1\" class=\"dataframe\">\n",
              "  <thead>\n",
              "    <tr style=\"text-align: right;\">\n",
              "      <th></th>\n",
              "      <th>Day</th>\n",
              "      <th>WakeUp</th>\n",
              "      <th>HaveTalk</th>\n",
              "      <th>Weather</th>\n",
              "      <th>GoToSchool</th>\n",
              "    </tr>\n",
              "  </thead>\n",
              "  <tbody>\n",
              "    <tr>\n",
              "      <th>0</th>\n",
              "      <td>D1</td>\n",
              "      <td>Normal</td>\n",
              "      <td>No</td>\n",
              "      <td>Sunny</td>\n",
              "      <td>No</td>\n",
              "    </tr>\n",
              "    <tr>\n",
              "      <th>1</th>\n",
              "      <td>D2</td>\n",
              "      <td>Normal</td>\n",
              "      <td>No</td>\n",
              "      <td>Rain</td>\n",
              "      <td>No</td>\n",
              "    </tr>\n",
              "    <tr>\n",
              "      <th>2</th>\n",
              "      <td>D3</td>\n",
              "      <td>Early</td>\n",
              "      <td>No</td>\n",
              "      <td>Sunny</td>\n",
              "      <td>Yes</td>\n",
              "    </tr>\n",
              "    <tr>\n",
              "      <th>3</th>\n",
              "      <td>D4</td>\n",
              "      <td>Late</td>\n",
              "      <td>No</td>\n",
              "      <td>Sunny</td>\n",
              "      <td>Yes</td>\n",
              "    </tr>\n",
              "    <tr>\n",
              "      <th>4</th>\n",
              "      <td>D5</td>\n",
              "      <td>Late</td>\n",
              "      <td>Yes</td>\n",
              "      <td>Sunny</td>\n",
              "      <td>Yes</td>\n",
              "    </tr>\n",
              "    <tr>\n",
              "      <th>5</th>\n",
              "      <td>D6</td>\n",
              "      <td>Late</td>\n",
              "      <td>Yes</td>\n",
              "      <td>Rain</td>\n",
              "      <td>No</td>\n",
              "    </tr>\n",
              "    <tr>\n",
              "      <th>6</th>\n",
              "      <td>D7</td>\n",
              "      <td>Early</td>\n",
              "      <td>Yes</td>\n",
              "      <td>Rain</td>\n",
              "      <td>Yes</td>\n",
              "    </tr>\n",
              "    <tr>\n",
              "      <th>7</th>\n",
              "      <td>D8</td>\n",
              "      <td>Normal</td>\n",
              "      <td>No</td>\n",
              "      <td>Sunny</td>\n",
              "      <td>No</td>\n",
              "    </tr>\n",
              "    <tr>\n",
              "      <th>8</th>\n",
              "      <td>D9</td>\n",
              "      <td>Normal</td>\n",
              "      <td>Yes</td>\n",
              "      <td>Sunny</td>\n",
              "      <td>Yes</td>\n",
              "    </tr>\n",
              "    <tr>\n",
              "      <th>9</th>\n",
              "      <td>D10</td>\n",
              "      <td>Late</td>\n",
              "      <td>Yes</td>\n",
              "      <td>Sunny</td>\n",
              "      <td>Yes</td>\n",
              "    </tr>\n",
              "    <tr>\n",
              "      <th>10</th>\n",
              "      <td>D11</td>\n",
              "      <td>Normal</td>\n",
              "      <td>Yes</td>\n",
              "      <td>Rain</td>\n",
              "      <td>Yes</td>\n",
              "    </tr>\n",
              "    <tr>\n",
              "      <th>11</th>\n",
              "      <td>D12</td>\n",
              "      <td>Early</td>\n",
              "      <td>No</td>\n",
              "      <td>Rain</td>\n",
              "      <td>Yes</td>\n",
              "    </tr>\n",
              "    <tr>\n",
              "      <th>12</th>\n",
              "      <td>D13</td>\n",
              "      <td>Early</td>\n",
              "      <td>Yes</td>\n",
              "      <td>Sunny</td>\n",
              "      <td>Yes</td>\n",
              "    </tr>\n",
              "  </tbody>\n",
              "</table>\n",
              "</div>\n",
              "      <button class=\"colab-df-convert\" onclick=\"convertToInteractive('df-05af8071-ee7c-4ecc-82f9-f62c00280e03')\"\n",
              "              title=\"Convert this dataframe to an interactive table.\"\n",
              "              style=\"display:none;\">\n",
              "        \n",
              "  <svg xmlns=\"http://www.w3.org/2000/svg\" height=\"24px\"viewBox=\"0 0 24 24\"\n",
              "       width=\"24px\">\n",
              "    <path d=\"M0 0h24v24H0V0z\" fill=\"none\"/>\n",
              "    <path d=\"M18.56 5.44l.94 2.06.94-2.06 2.06-.94-2.06-.94-.94-2.06-.94 2.06-2.06.94zm-11 1L8.5 8.5l.94-2.06 2.06-.94-2.06-.94L8.5 2.5l-.94 2.06-2.06.94zm10 10l.94 2.06.94-2.06 2.06-.94-2.06-.94-.94-2.06-.94 2.06-2.06.94z\"/><path d=\"M17.41 7.96l-1.37-1.37c-.4-.4-.92-.59-1.43-.59-.52 0-1.04.2-1.43.59L10.3 9.45l-7.72 7.72c-.78.78-.78 2.05 0 2.83L4 21.41c.39.39.9.59 1.41.59.51 0 1.02-.2 1.41-.59l7.78-7.78 2.81-2.81c.8-.78.8-2.07 0-2.86zM5.41 20L4 18.59l7.72-7.72 1.47 1.35L5.41 20z\"/>\n",
              "  </svg>\n",
              "      </button>\n",
              "      \n",
              "  <style>\n",
              "    .colab-df-container {\n",
              "      display:flex;\n",
              "      flex-wrap:wrap;\n",
              "      gap: 12px;\n",
              "    }\n",
              "\n",
              "    .colab-df-convert {\n",
              "      background-color: #E8F0FE;\n",
              "      border: none;\n",
              "      border-radius: 50%;\n",
              "      cursor: pointer;\n",
              "      display: none;\n",
              "      fill: #1967D2;\n",
              "      height: 32px;\n",
              "      padding: 0 0 0 0;\n",
              "      width: 32px;\n",
              "    }\n",
              "\n",
              "    .colab-df-convert:hover {\n",
              "      background-color: #E2EBFA;\n",
              "      box-shadow: 0px 1px 2px rgba(60, 64, 67, 0.3), 0px 1px 3px 1px rgba(60, 64, 67, 0.15);\n",
              "      fill: #174EA6;\n",
              "    }\n",
              "\n",
              "    [theme=dark] .colab-df-convert {\n",
              "      background-color: #3B4455;\n",
              "      fill: #D2E3FC;\n",
              "    }\n",
              "\n",
              "    [theme=dark] .colab-df-convert:hover {\n",
              "      background-color: #434B5C;\n",
              "      box-shadow: 0px 1px 3px 1px rgba(0, 0, 0, 0.15);\n",
              "      filter: drop-shadow(0px 1px 2px rgba(0, 0, 0, 0.3));\n",
              "      fill: #FFFFFF;\n",
              "    }\n",
              "  </style>\n",
              "\n",
              "      <script>\n",
              "        const buttonEl =\n",
              "          document.querySelector('#df-05af8071-ee7c-4ecc-82f9-f62c00280e03 button.colab-df-convert');\n",
              "        buttonEl.style.display =\n",
              "          google.colab.kernel.accessAllowed ? 'block' : 'none';\n",
              "\n",
              "        async function convertToInteractive(key) {\n",
              "          const element = document.querySelector('#df-05af8071-ee7c-4ecc-82f9-f62c00280e03');\n",
              "          const dataTable =\n",
              "            await google.colab.kernel.invokeFunction('convertToInteractive',\n",
              "                                                     [key], {});\n",
              "          if (!dataTable) return;\n",
              "\n",
              "          const docLinkHtml = 'Like what you see? Visit the ' +\n",
              "            '<a target=\"_blank\" href=https://colab.research.google.com/notebooks/data_table.ipynb>data table notebook</a>'\n",
              "            + ' to learn more about interactive tables.';\n",
              "          element.innerHTML = '';\n",
              "          dataTable['output_type'] = 'display_data';\n",
              "          await google.colab.output.renderOutput(dataTable, element);\n",
              "          const docLink = document.createElement('div');\n",
              "          docLink.innerHTML = docLinkHtml;\n",
              "          element.appendChild(docLink);\n",
              "        }\n",
              "      </script>\n",
              "    </div>\n",
              "  </div>\n",
              "  "
            ]
          },
          "metadata": {},
          "execution_count": 36
        }
      ]
    },
    {
      "cell_type": "markdown",
      "source": [
        "#Processing the dataset for feature encoding to replace text values with numeric values"
      ],
      "metadata": {
        "id": "gi4UZRMtrgdt"
      }
    },
    {
      "cell_type": "code",
      "source": [
        "from sklearn.preprocessing import LabelEncoder\n",
        "lblEncoder = LabelEncoder()\n",
        "encoded_df = df.apply(lblEncoder.fit_transform)\n",
        "print (encoded_df)"
      ],
      "metadata": {
        "colab": {
          "base_uri": "https://localhost:8080/"
        },
        "id": "bO5hFv_br5L-",
        "outputId": "2699e7ce-077d-44d3-9c29-1a6018ba6f4c"
      },
      "execution_count": null,
      "outputs": [
        {
          "output_type": "stream",
          "name": "stdout",
          "text": [
            "    Day  WakeUp  HaveTalk  Weather  GoToSchool\n",
            "0     0       2         0        1           0\n",
            "1     5       2         0        0           0\n",
            "2     6       0         0        1           1\n",
            "3     7       1         0        1           1\n",
            "4     8       1         1        1           1\n",
            "5     9       1         1        0           0\n",
            "6    10       0         1        0           1\n",
            "7    11       2         0        1           0\n",
            "8    12       2         1        1           1\n",
            "9     1       1         1        1           1\n",
            "10    2       2         1        0           1\n",
            "11    3       0         0        0           1\n",
            "12    4       0         1        1           1\n"
          ]
        }
      ]
    },
    {
      "cell_type": "markdown",
      "source": [
        "#Splitting data into training and testing set"
      ],
      "metadata": {
        "id": "Z2p6GDXizv17"
      }
    },
    {
      "cell_type": "code",
      "source": [
        "from sklearn.model_selection import train_test_split\n",
        "predictors = encoded_df.iloc[:,1:4]\n",
        "target = encoded_df.iloc[:,4]\n",
        "#df.iloc[<row selection> , <column selection>]\n",
        "# df.iloc[:,1:3] = is used to select all rows (:) of columns 1 and 2 (1:3)\n",
        "#print (predictors)\n",
        "#print (target)\n",
        "trainX, testX, trainY, testY = train_test_split(predictors, target, test_size =0.1, random_state=100)\n",
        "print (testX)\n",
        "print (testY)"
      ],
      "metadata": {
        "id": "zH5WGx6HzwpE",
        "colab": {
          "base_uri": "https://localhost:8080/"
        },
        "outputId": "bf0f70bb-74c4-4480-a622-cc5a40863e9a"
      },
      "execution_count": null,
      "outputs": [
        {
          "output_type": "stream",
          "name": "stdout",
          "text": [
            "    WakeUp  HaveTalk  Weather\n",
            "10       2         1        0\n",
            "6        0         1        0\n",
            "10    1\n",
            "6     1\n",
            "Name: GoToSchool, dtype: int64\n"
          ]
        }
      ]
    },
    {
      "cell_type": "markdown",
      "source": [
        "# Decision tree classifier using training set and and then predict the class for test predictor"
      ],
      "metadata": {
        "id": "WDMBBvtEzztT"
      }
    },
    {
      "cell_type": "code",
      "source": [
        "from sklearn.tree import DecisionTreeClassifier\n",
        "DT_Classifier = DecisionTreeClassifier(criterion = 'entropy', random_state=100, max_depth=4, min_samples_leaf=1)\n",
        "DT_Classifier.fit(trainX, trainY)\n",
        "print (\"Test set predictions: {}\".format(DT_Classifier.predict(testX)))"
      ],
      "metadata": {
        "id": "HWmSs_G2z280",
        "colab": {
          "base_uri": "https://localhost:8080/"
        },
        "outputId": "9cb4318a-7434-4e5e-853b-375eef549a3b"
      },
      "execution_count": null,
      "outputs": [
        {
          "output_type": "stream",
          "name": "stdout",
          "text": [
            "Test set predictions: [1 0]\n"
          ]
        }
      ]
    },
    {
      "cell_type": "markdown",
      "source": [
        "#Model evaluation and confusion matrix"
      ],
      "metadata": {
        "id": "PqSi9vVZDEBd"
      }
    },
    {
      "cell_type": "code",
      "source": [
        "from sklearn.metrics import accuracy_score\n",
        "accuracy = DT_Classifier.score(testX, testY)\n",
        "print (accuracy)\n",
        "from sklearn.metrics import confusion_matrix\n",
        "predictions = DT_Classifier.predict(testX)\n",
        "confusion_matrix = confusion_matrix(testY, predictions)\n",
        "print (confusion_matrix)\n",
        "# here the model evaluation checks how close the predicted values from DT are to the testY values"
      ],
      "metadata": {
        "colab": {
          "base_uri": "https://localhost:8080/"
        },
        "id": "SKSclhdzDIXd",
        "outputId": "f1a3b170-bcc1-47e3-a1cc-56e393d6131d"
      },
      "execution_count": null,
      "outputs": [
        {
          "output_type": "stream",
          "name": "stdout",
          "text": [
            "0.5\n",
            "[[0 0]\n",
            " [1 1]]\n"
          ]
        }
      ]
    }
  ]
}